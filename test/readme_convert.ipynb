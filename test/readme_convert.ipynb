{
 "cells": [
  {
   "cell_type": "markdown",
   "id": "ce5884dc",
   "metadata": {},
   "source": [
    "### Idea\n",
    "The idea is convert the readme.md file to required format."
   ]
  },
  {
   "cell_type": "code",
   "execution_count": 13,
   "id": "7f8a112d",
   "metadata": {},
   "outputs": [],
   "source": [
    "with open('./readme.md','r') as f:\n",
    "    readme = f.read()"
   ]
  },
  {
   "cell_type": "code",
   "execution_count": 6,
   "id": "4989d365",
   "metadata": {},
   "outputs": [
    {
     "name": "stdout",
     "output_type": "stream",
     "text": [
      "['tags:', '  - project', '  - electronics', 'title: Test Project', 'description: This is a test description ', '---', '# Full Adder \"Change ME\"', '![alt text|600x500](imgs/main.png)', 'This section should contain the description and introduction to the project. ', '## Code ', '', '```python', '\"\"\"', 'This script is here only for to give an example.', '\"\"\" ', '', 'def f_adder(x,y,c_in):', '    sum = int(', '        (', '            not x and y or ', '            not y and x ', '        ) ', '        and', '        not c_in  or not  ', '        (', '            not x and y or', '            not y and x ', '        )', '        and c_in) ', '    carry = int(', '        (', '            not x and y or ', '            not y and x ', '        ) ', '        and', '        not c_in  or not  ', '        (', '            not x and y or', '            not y and x ', '        )', '        and c_in)', '    return sum, carry', 'print(\"Truth Table of Full Adder\".center(len(\"x | y | c_in | sum | carry |\"), \"-\"))', 'print(\"-\".center(len(\"x | y | c_in | sum | carry |\"), \"-\"))', 'print(\"x | y | c_in | sum | carry |\")', 'for x in [0, 1]:', '    for y in [0, 1]:', '        for c_in in [0, 1]:', '            sum, carry = f_adder(x, y, c_in)', '            print(f\"{x} | {y} | {c_in} {\" \" * (len(\"c_in\") - 2)} | {sum} {\" \" * (len(\"sum\") - 2)} | {carry} {\" \" * (len(\"carry\") - 2)} |\")', 'print(\"-\".center(len(\"x | y | c_in | sum | carry |\"), \"-\"))', 'print(\"End of Truth Table\".center(len(\"x | y | c_in | sum | carry |\"), \"-\"))', '```', '', '```', '-Truth Table of Full Adder--', '----------------------------', 'x | y | c_in | sum | carry |', '0 | 0 | 0    | 0   | 0     |', '0 | 0 | 1    | 1   | 1     |', '0 | 1 | 0    | 1   | 1     |', '0 | 1 | 1    | 0   | 0     |', '1 | 0 | 0    | 1   | 1     |', '1 | 0 | 1    | 0   | 0     |', '1 | 1 | 0    | 0   | 0     |', '1 | 1 | 1    | 1   | 1     |', '----------------------------', '-----End of Truth Table-----', '```', '', '', '', '## Circuit Diagram ', '', '![alt text](imgs/ckt_diagram.png)', '', 'Texts explaining the circuit diagram ', 'example explenation', '', 'This section contains the circuit diagram of a full adder circuit. It is made using BJT(BiPolar Junction Transistor).', '', '### Working', 'There are 3 inputs and 2 outputs , ', '', '## Simulations', '', '![alt text](imgs/simulation_1.png)', '']\n"
     ]
    }
   ],
   "source": [
    "print(readme.split('\\n'))"
   ]
  },
  {
   "cell_type": "code",
   "execution_count": 14,
   "id": "6790af5c",
   "metadata": {},
   "outputs": [],
   "source": [
    "lines = readme.split('\\n')\n",
    "\n",
    "if lines and lines[0].strip().startswith('#'):\n",
    "    print(lines[0].strip('# ').strip())\n",
    "\n",
    "    \n",
    "# data[\"title\"] = lines[0].strip('# ').strip()\n",
    "# if len(lines) > 1:\n",
    "#     data[\"description\"] = lines[1].strip()"
   ]
  },
  {
   "cell_type": "code",
   "execution_count": 18,
   "id": "77822c56",
   "metadata": {},
   "outputs": [],
   "source": [
    "properties = {\n",
    "        \"title\": \"\",\n",
    "        \"description\": \"\",\n",
    "        \"main\": {\n",
    "            \"id\": 1, # You'll need a way to assign unique IDs\n",
    "            \"content\": \"\",\n",
    "            \"imgCard\": \"\",\n",
    "            \"imgMain\": \"\",\n",
    "            \"imgAlt\": \"\"\n",
    "        },\n",
    "        \"tabs\": [\n",
    "            {\"id\": \"tabs-with-card-item-1\", \"dataTab\": \"#tabs-with-card-1\", \"title\": \"Description\"},\n",
    "            {\"id\": \"tabs-with-card-item-2\", \"dataTab\": \"#tabs-with-card-2\", \"title\": \"Specifications\"},\n",
    "            {\"id\": \"tabs-with-card-item-3\", \"dataTab\": \"#tabs-with-card-3\", \"title\": \"Blueprints\"},\n",
    "        ],\n",
    "        \"longDescription\": {\n",
    "            \"title\": \"\",\n",
    "            \"subTitle\": \"\",\n",
    "            \"btnTitle\": \"Contact sales to learn more\",\n",
    "            \"btnURL\": \"#\"\n",
    "        },\n",
    "        \"descriptionList\": [],\n",
    "        \"specificationsLeft\": [],\n",
    "        \"tableData\": [],\n",
    "        \"blueprints\": {\n",
    "            \"first\": \"\",\n",
    "            \"second\": \"\"\n",
    "        }\n",
    "    }"
   ]
  },
  {
   "cell_type": "markdown",
   "id": "6c15f715",
   "metadata": {},
   "source": [
    "#### First Extract Headers"
   ]
  },
  {
   "cell_type": "code",
   "execution_count": null,
   "id": "61c01c30",
   "metadata": {},
   "outputs": [],
   "source": [
    "import re , yaml\n",
    "yaml_start = readme.find('---')\n",
    "yaml_end = readme.find('---', yaml_start + 3)\n",
    "yaml_content = readme[yaml_start + 3:yaml_end].strip()\n",
    "\n",
    "\n",
    "class Props:\n",
    "    def __init__(self,yaml_content):\n",
    "        self.parsed_data =  yaml.safe_load(yaml_content)\n",
    "        self.title = self.parsed_data.get('title',\"\")\n",
    "        self.description  = self.parsed_data.get('description' , \"\")\n",
    "        self.allowed_project_types =  [\"electronics\" , \"ai/ml\", \"robotics\" , \"web\" , \"software\"]\n",
    "        self.tags = self.parsed_data.get('tags',\"\")\n",
    "        self.project_type = self.get_project_type()\n",
    "        \n",
    "    def get_project_type(self):\n",
    "        for tag in self.tags:\n",
    "            if tag in self.allowed_project_types:\n",
    "                return tag\n",
    "        return None\n",
    "    \n",
    "    \n",
    "P = Props(yaml_content=yaml_content)\n",
    "print(P.title)\n",
    "print(P.project_type)\n",
    "print(P.tags)\n",
    "print(P.description)"
   ]
  },
  {
   "cell_type": "code",
   "execution_count": null,
   "id": "0833da8d",
   "metadata": {},
   "outputs": [],
   "source": [
    "import markdown\n",
    "import yaml\n",
    "import re\n",
    "\n",
    "def convert_readme_to_astro_frontmatter(readme_content):\n",
    "    data = {\n",
    "        \"title\": \"\",\n",
    "        \"description\": \"\",\n",
    "        \"main\": {\n",
    "            \"id\": 1, # You'll need a way to assign unique IDs\n",
    "            \"content\": \"\",\n",
    "            \"imgCard\": \"\",\n",
    "            \"imgMain\": \"\",\n",
    "            \"imgAlt\": \"\"\n",
    "        },\n",
    "        \"tabs\": [\n",
    "            {\"id\": \"tabs-with-card-item-1\", \"dataTab\": \"#tabs-with-card-1\", \"title\": \"Description\"},\n",
    "            {\"id\": \"tabs-with-card-item-2\", \"dataTab\": \"#tabs-with-card-2\", \"title\": \"Specifications\"},\n",
    "            {\"id\": \"tabs-with-card-item-3\", \"dataTab\": \"#tabs-with-card-3\", \"title\": \"Blueprints\"},\n",
    "        ],\n",
    "        \"longDescription\": {\n",
    "            \"title\": \"\",\n",
    "            \"subTitle\": \"\",\n",
    "            \"btnTitle\": \"Contact sales to learn more\",\n",
    "            \"btnURL\": \"#\"\n",
    "        },\n",
    "        \"descriptionList\": [],\n",
    "        \"specificationsLeft\": [],\n",
    "        \"tableData\": [],\n",
    "        \"blueprints\": {\n",
    "            \"first\": \"\",\n",
    "            \"second\": \"\"\n",
    "        }\n",
    "    }\n",
    "\n",
    "    lines = readme_content.split('\\n')\n",
    "    if lines and lines[0].strip().startswith('#'):\n",
    "        data[\"title\"] = lines[0].strip('# ').strip()\n",
    "    if len(lines) > 1:\n",
    "        data[\"description\"] = lines[1].strip()\n",
    "\n",
    "    # Placeholder for more advanced parsing\n",
    "    # You would use a Markdown parser to get an AST, then traverse it.\n",
    "    # For instance, to get main content:\n",
    "    main_content_match = re.search(r'## Main Content\\n\\n(.*?)##', readme_content, re.DOTALL)\n",
    "    if main_content_match:\n",
    "        data[\"main\"][\"content\"] = main_content_match.group(1).strip()\n",
    "        # You'd then parse this content for images and set imgCard/imgMain\n",
    "\n",
    "    # Similar regex or markdown AST parsing for other sections\n",
    "    # For example, for descriptionList, you'd look for bullet points under \"Description\" heading\n",
    "    \n",
    "    # Example for specificationsLeft (very naive)\n",
    "    specs_match = re.search(r'## Specifications\\n\\n(.*?)##', readme_content, re.DOTALL)\n",
    "    if specs_match:\n",
    "        spec_lines = specs_match.group(1).strip().split('\\n')\n",
    "        for line in spec_lines:\n",
    "            if ':' in line:\n",
    "                key, value = line.split(':', 1)\n",
    "                data[\"specificationsLeft\"].append({\"title\": key.strip(), \"subTitle\": value.strip()})\n",
    "\n",
    "    # Example for tableData (requires parsing Markdown table)\n",
    "    table_match = re.search(r'## Table Data\\n\\n\\|.*?\\|\\n\\|---.*?\\|\\n(.*?)(?=\\n\\n|\\Z)', readme_content, re.DOTALL)\n",
    "    if table_match:\n",
    "        table_lines = table_match.group(1).strip().split('\\n')\n",
    "        # Parse table_lines into the desired list of lists for tableData\n",
    "        # This part is tricky and would involve more detailed parsing\n",
    "\n",
    "    # For images, you'd extract them from Markdown and map them to imgCard, imgMain, blueprints\n",
    "    # This might require some manual configuration or strict naming conventions (e.g., \"card.avif\", \"main.avif\")\n",
    "\n",
    "    frontmatter = f\"---\\n{yaml.dump(data, sort_keys=False)}---\\n\"\n",
    "    return frontmatter"
   ]
  }
 ],
 "metadata": {
  "kernelspec": {
   "display_name": ".venv",
   "language": "python",
   "name": "python3"
  },
  "language_info": {
   "codemirror_mode": {
    "name": "ipython",
    "version": 3
   },
   "file_extension": ".py",
   "mimetype": "text/x-python",
   "name": "python",
   "nbconvert_exporter": "python",
   "pygments_lexer": "ipython3",
   "version": "3.13.5"
  }
 },
 "nbformat": 4,
 "nbformat_minor": 5
}
