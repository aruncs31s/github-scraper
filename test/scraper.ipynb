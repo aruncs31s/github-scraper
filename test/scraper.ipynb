{
 "cells": [
  {
   "cell_type": "code",
   "execution_count": 2,
   "id": "de627e0d",
   "metadata": {},
   "outputs": [
    {
     "name": "stdout",
     "output_type": "stream",
     "text": [
      "Collecting requests\n",
      "  Using cached requests-2.32.4-py3-none-any.whl.metadata (4.9 kB)\n",
      "Collecting charset_normalizer<4,>=2 (from requests)\n",
      "  Using cached charset_normalizer-3.4.2-cp313-cp313-macosx_10_13_universal2.whl.metadata (35 kB)\n",
      "Collecting idna<4,>=2.5 (from requests)\n",
      "  Using cached idna-3.10-py3-none-any.whl.metadata (10 kB)\n",
      "Collecting urllib3<3,>=1.21.1 (from requests)\n",
      "  Using cached urllib3-2.5.0-py3-none-any.whl.metadata (6.5 kB)\n",
      "Collecting certifi>=2017.4.17 (from requests)\n",
      "  Using cached certifi-2025.6.15-py3-none-any.whl.metadata (2.4 kB)\n",
      "Using cached requests-2.32.4-py3-none-any.whl (64 kB)\n",
      "Using cached charset_normalizer-3.4.2-cp313-cp313-macosx_10_13_universal2.whl (199 kB)\n",
      "Using cached idna-3.10-py3-none-any.whl (70 kB)\n",
      "Using cached urllib3-2.5.0-py3-none-any.whl (129 kB)\n",
      "Using cached certifi-2025.6.15-py3-none-any.whl (157 kB)\n",
      "Installing collected packages: urllib3, idna, charset_normalizer, certifi, requests\n",
      "\u001b[2K   \u001b[90m━━━━━━━━━━━━━━━━━━━━━━━━━━━━━━━━━━━━━━━━\u001b[0m \u001b[32m5/5\u001b[0m [requests]1/5\u001b[0m [idna]\n",
      "\u001b[1A\u001b[2KSuccessfully installed certifi-2025.6.15 charset_normalizer-3.4.2 idna-3.10 requests-2.32.4 urllib3-2.5.0\n"
     ]
    }
   ],
   "source": [
    "!pip install requests"
   ]
  },
  {
   "cell_type": "code",
   "execution_count": 3,
   "id": "5e43db54",
   "metadata": {},
   "outputs": [],
   "source": [
    "import requests"
   ]
  },
  {
   "cell_type": "code",
   "execution_count": 15,
   "id": "b082703e",
   "metadata": {},
   "outputs": [],
   "source": [
    "response = requests.get(\"https://api.github.com/orgs/Embedded-Systems-GCEK/members\")\n",
    "data = response.json()"
   ]
  },
  {
   "cell_type": "code",
   "execution_count": 38,
   "id": "9ef5220f",
   "metadata": {},
   "outputs": [
    {
     "name": "stdout",
     "output_type": "stream",
     "text": [
      "id: 972720467\n",
      "node_id: R_kgDOOfqJUw\n",
      "name: AI-Robot-System\n",
      "full_name: Embedded-Systems-GCEK/AI-Robot-System\n",
      "private: False\n",
      "owner: {'login': 'Embedded-Systems-GCEK', 'id': 209109644, 'node_id': 'O_kgDODHbCjA', 'avatar_url': 'https://avatars.githubusercontent.com/u/209109644?v=4', 'gravatar_id': '', 'url': 'https://api.github.com/users/Embedded-Systems-GCEK', 'html_url': 'https://github.com/Embedded-Systems-GCEK', 'followers_url': 'https://api.github.com/users/Embedded-Systems-GCEK/followers', 'following_url': 'https://api.github.com/users/Embedded-Systems-GCEK/following{/other_user}', 'gists_url': 'https://api.github.com/users/Embedded-Systems-GCEK/gists{/gist_id}', 'starred_url': 'https://api.github.com/users/Embedded-Systems-GCEK/starred{/owner}{/repo}', 'subscriptions_url': 'https://api.github.com/users/Embedded-Systems-GCEK/subscriptions', 'organizations_url': 'https://api.github.com/users/Embedded-Systems-GCEK/orgs', 'repos_url': 'https://api.github.com/users/Embedded-Systems-GCEK/repos', 'events_url': 'https://api.github.com/users/Embedded-Systems-GCEK/events{/privacy}', 'received_events_url': 'https://api.github.com/users/Embedded-Systems-GCEK/received_events', 'type': 'Organization', 'user_view_type': 'public', 'site_admin': False}\n",
      "html_url: https://github.com/Embedded-Systems-GCEK/AI-Robot-System\n",
      "description: Ai robot system root dir.\n",
      "fork: True\n",
      "url: https://api.github.com/repos/Embedded-Systems-GCEK/AI-Robot-System\n",
      "forks_url: https://api.github.com/repos/Embedded-Systems-GCEK/AI-Robot-System/forks\n",
      "keys_url: https://api.github.com/repos/Embedded-Systems-GCEK/AI-Robot-System/keys{/key_id}\n",
      "collaborators_url: https://api.github.com/repos/Embedded-Systems-GCEK/AI-Robot-System/collaborators{/collaborator}\n",
      "teams_url: https://api.github.com/repos/Embedded-Systems-GCEK/AI-Robot-System/teams\n",
      "hooks_url: https://api.github.com/repos/Embedded-Systems-GCEK/AI-Robot-System/hooks\n",
      "issue_events_url: https://api.github.com/repos/Embedded-Systems-GCEK/AI-Robot-System/issues/events{/number}\n",
      "events_url: https://api.github.com/repos/Embedded-Systems-GCEK/AI-Robot-System/events\n",
      "assignees_url: https://api.github.com/repos/Embedded-Systems-GCEK/AI-Robot-System/assignees{/user}\n",
      "branches_url: https://api.github.com/repos/Embedded-Systems-GCEK/AI-Robot-System/branches{/branch}\n",
      "tags_url: https://api.github.com/repos/Embedded-Systems-GCEK/AI-Robot-System/tags\n",
      "blobs_url: https://api.github.com/repos/Embedded-Systems-GCEK/AI-Robot-System/git/blobs{/sha}\n",
      "git_tags_url: https://api.github.com/repos/Embedded-Systems-GCEK/AI-Robot-System/git/tags{/sha}\n",
      "git_refs_url: https://api.github.com/repos/Embedded-Systems-GCEK/AI-Robot-System/git/refs{/sha}\n",
      "trees_url: https://api.github.com/repos/Embedded-Systems-GCEK/AI-Robot-System/git/trees{/sha}\n",
      "statuses_url: https://api.github.com/repos/Embedded-Systems-GCEK/AI-Robot-System/statuses/{sha}\n",
      "languages_url: https://api.github.com/repos/Embedded-Systems-GCEK/AI-Robot-System/languages\n",
      "stargazers_url: https://api.github.com/repos/Embedded-Systems-GCEK/AI-Robot-System/stargazers\n",
      "contributors_url: https://api.github.com/repos/Embedded-Systems-GCEK/AI-Robot-System/contributors\n",
      "subscribers_url: https://api.github.com/repos/Embedded-Systems-GCEK/AI-Robot-System/subscribers\n",
      "subscription_url: https://api.github.com/repos/Embedded-Systems-GCEK/AI-Robot-System/subscription\n",
      "commits_url: https://api.github.com/repos/Embedded-Systems-GCEK/AI-Robot-System/commits{/sha}\n",
      "git_commits_url: https://api.github.com/repos/Embedded-Systems-GCEK/AI-Robot-System/git/commits{/sha}\n",
      "comments_url: https://api.github.com/repos/Embedded-Systems-GCEK/AI-Robot-System/comments{/number}\n",
      "issue_comment_url: https://api.github.com/repos/Embedded-Systems-GCEK/AI-Robot-System/issues/comments{/number}\n",
      "contents_url: https://api.github.com/repos/Embedded-Systems-GCEK/AI-Robot-System/contents/{+path}\n",
      "compare_url: https://api.github.com/repos/Embedded-Systems-GCEK/AI-Robot-System/compare/{base}...{head}\n",
      "merges_url: https://api.github.com/repos/Embedded-Systems-GCEK/AI-Robot-System/merges\n",
      "archive_url: https://api.github.com/repos/Embedded-Systems-GCEK/AI-Robot-System/{archive_format}{/ref}\n",
      "downloads_url: https://api.github.com/repos/Embedded-Systems-GCEK/AI-Robot-System/downloads\n",
      "issues_url: https://api.github.com/repos/Embedded-Systems-GCEK/AI-Robot-System/issues{/number}\n",
      "pulls_url: https://api.github.com/repos/Embedded-Systems-GCEK/AI-Robot-System/pulls{/number}\n",
      "milestones_url: https://api.github.com/repos/Embedded-Systems-GCEK/AI-Robot-System/milestones{/number}\n",
      "notifications_url: https://api.github.com/repos/Embedded-Systems-GCEK/AI-Robot-System/notifications{?since,all,participating}\n",
      "labels_url: https://api.github.com/repos/Embedded-Systems-GCEK/AI-Robot-System/labels{/name}\n",
      "releases_url: https://api.github.com/repos/Embedded-Systems-GCEK/AI-Robot-System/releases{/id}\n",
      "deployments_url: https://api.github.com/repos/Embedded-Systems-GCEK/AI-Robot-System/deployments\n",
      "created_at: 2025-04-25T14:45:53Z\n",
      "updated_at: 2025-06-01T19:08:45Z\n",
      "pushed_at: 2025-06-01T19:08:42Z\n",
      "git_url: git://github.com/Embedded-Systems-GCEK/AI-Robot-System.git\n",
      "ssh_url: git@github.com:Embedded-Systems-GCEK/AI-Robot-System.git\n",
      "clone_url: https://github.com/Embedded-Systems-GCEK/AI-Robot-System.git\n",
      "svn_url: https://github.com/Embedded-Systems-GCEK/AI-Robot-System\n",
      "homepage: None\n",
      "size: 2\n",
      "stargazers_count: 0\n",
      "watchers_count: 0\n",
      "language: None\n",
      "has_issues: False\n",
      "has_projects: True\n",
      "has_downloads: True\n",
      "has_wiki: True\n",
      "has_pages: False\n",
      "has_discussions: True\n",
      "forks_count: 0\n",
      "mirror_url: None\n",
      "archived: False\n",
      "disabled: False\n",
      "open_issues_count: 0\n",
      "license: {'key': 'mit', 'name': 'MIT License', 'spdx_id': 'MIT', 'url': 'https://api.github.com/licenses/mit', 'node_id': 'MDc6TGljZW5zZTEz'}\n",
      "allow_forking: True\n",
      "is_template: False\n",
      "web_commit_signoff_required: False\n",
      "topics: []\n",
      "visibility: public\n",
      "forks: 0\n",
      "open_issues: 0\n",
      "watchers: 0\n",
      "default_branch: main\n",
      "permissions: {'admin': False, 'maintain': False, 'push': False, 'triage': False, 'pull': True}\n",
      "custom_properties: {}\n"
     ]
    }
   ],
   "source": [
    "for keys in data[0].keys():\n",
    "    print(f\"{keys}: {data[0][keys]}\")"
   ]
  },
  {
   "cell_type": "code",
   "execution_count": 20,
   "id": "8c3f30e9",
   "metadata": {},
   "outputs": [
    {
     "name": "stdout",
     "output_type": "stream",
     "text": [
      "login\n",
      "id\n",
      "node_id\n",
      "avatar_url\n",
      "gravatar_id\n",
      "url\n",
      "html_url\n",
      "followers_url\n",
      "following_url\n",
      "gists_url\n",
      "starred_url\n",
      "subscriptions_url\n",
      "organizations_url\n",
      "repos_url\n",
      "events_url\n",
      "received_events_url\n",
      "type\n",
      "user_view_type\n",
      "site_admin\n"
     ]
    }
   ],
   "source": [
    "for key in data[0].keys():\n",
    "    print(f\"{key}: {data[0][key]}\")"
   ]
  },
  {
   "cell_type": "code",
   "execution_count": 21,
   "id": "cd993da5",
   "metadata": {},
   "outputs": [
    {
     "name": "stdout",
     "output_type": "stream",
     "text": [
      "Member: aruncs31s, ID: 87601622\n"
     ]
    }
   ],
   "source": [
    "url = \"https://api.github.com/orgs/Embedded-Systems-GCEK/members\"\n",
    "response = requests.get(url)\n",
    "if response.status_code == 200:\n",
    "    data = response.json()\n",
    "    for member in data:\n",
    "        print(f\"Member: {member['login']}, ID: {member['id']}\")\n",
    "        "
   ]
  },
  {
   "cell_type": "code",
   "execution_count": 25,
   "id": "ad6fb10d",
   "metadata": {},
   "outputs": [
    {
     "name": "stdout",
     "output_type": "stream",
     "text": [
      "Repo: AI-Robot-System, ID: 972720467\n",
      "Repo: AI-Robot-Schematics, ID: 972722882\n",
      "Repo: platformio_template, ID: 973295414\n",
      "Repo: web_based_servo_position_finder, ID: 973303891\n",
      "Repo: .github, ID: 973709528\n",
      "Repo: PCA9685_test, ID: 983600414\n",
      "Repo: Documentations, ID: 993994867\n",
      "Repo: AI-Robot-Human-Interaction, ID: 994354347\n",
      "Repo: Microcontroller-Codes, ID: 994356274\n",
      "Repo: Test-OOP, ID: 994676449\n",
      "Repo: robo, ID: 995993224\n",
      "Repo: robo-server, ID: 995999593\n",
      "Repo: AI-Robot-Countdown, ID: 997357944\n",
      "Repo: robo-initial-positions, ID: 997499654\n",
      "Repo: robo-movement, ID: 997512528\n",
      "Repo: voice_assistant, ID: 998433770\n",
      "Repo: Server_Client_test_for_human_detection, ID: 999488266\n",
      "Repo: people-detection-yolo, ID: 1000695839\n",
      "Repo: inauguration_lamp, ID: 1002142138\n",
      "Repo: ai_robot_position_scraper, ID: 1002146466\n",
      "Repo: ai_robot_position_finder_app, ID: 1002198990\n",
      "Repo: pulse_based_position_tester, ID: 1006869299\n"
     ]
    }
   ],
   "source": [
    "url = \"https://api.github.com/orgs/Embedded-Systems-GCEK/repos\"\n",
    "response = requests.get(url)\n",
    "if response.status_code == 200:\n",
    "    data = response.json()\n",
    "    for repo in data:\n",
    "        print(f\"Repo: {repo['name']}, ID: {repo['id']}\")\n",
    "        "
   ]
  },
  {
   "cell_type": "code",
   "execution_count": null,
   "id": "7d877869",
   "metadata": {},
   "outputs": [],
   "source": [
    "url = \"https://api.github.com/orgs/Embedded-Systems-GCEK/repos\"\n",
    "response = requests.get(url)\n",
    "if response.status_code == 200:\n",
    "    data = response.json()\n",
    "    for repo in data:\n",
    "        \n",
    "        print(f\"Repo: {repo['name']}, ID: {repo['id']}\")\n",
    "        \n",
    "        "
   ]
  },
  {
   "cell_type": "code",
   "execution_count": 39,
   "id": "5690c18b",
   "metadata": {},
   "outputs": [
    {
     "name": "stdout",
     "output_type": "stream",
     "text": [
      "id: 972720467\n",
      "node_id: R_kgDOOfqJUw\n",
      "name: AI-Robot-System\n",
      "full_name: Embedded-Systems-GCEK/AI-Robot-System\n",
      "private: False\n",
      "owner: {'login': 'Embedded-Systems-GCEK', 'id': 209109644, 'node_id': 'O_kgDODHbCjA', 'avatar_url': 'https://avatars.githubusercontent.com/u/209109644?v=4', 'gravatar_id': '', 'url': 'https://api.github.com/users/Embedded-Systems-GCEK', 'html_url': 'https://github.com/Embedded-Systems-GCEK', 'followers_url': 'https://api.github.com/users/Embedded-Systems-GCEK/followers', 'following_url': 'https://api.github.com/users/Embedded-Systems-GCEK/following{/other_user}', 'gists_url': 'https://api.github.com/users/Embedded-Systems-GCEK/gists{/gist_id}', 'starred_url': 'https://api.github.com/users/Embedded-Systems-GCEK/starred{/owner}{/repo}', 'subscriptions_url': 'https://api.github.com/users/Embedded-Systems-GCEK/subscriptions', 'organizations_url': 'https://api.github.com/users/Embedded-Systems-GCEK/orgs', 'repos_url': 'https://api.github.com/users/Embedded-Systems-GCEK/repos', 'events_url': 'https://api.github.com/users/Embedded-Systems-GCEK/events{/privacy}', 'received_events_url': 'https://api.github.com/users/Embedded-Systems-GCEK/received_events', 'type': 'Organization', 'user_view_type': 'public', 'site_admin': False}\n",
      "html_url: https://github.com/Embedded-Systems-GCEK/AI-Robot-System\n",
      "description: Ai robot system root dir.\n",
      "fork: True\n",
      "url: https://api.github.com/repos/Embedded-Systems-GCEK/AI-Robot-System\n",
      "forks_url: https://api.github.com/repos/Embedded-Systems-GCEK/AI-Robot-System/forks\n",
      "keys_url: https://api.github.com/repos/Embedded-Systems-GCEK/AI-Robot-System/keys{/key_id}\n",
      "collaborators_url: https://api.github.com/repos/Embedded-Systems-GCEK/AI-Robot-System/collaborators{/collaborator}\n",
      "teams_url: https://api.github.com/repos/Embedded-Systems-GCEK/AI-Robot-System/teams\n",
      "hooks_url: https://api.github.com/repos/Embedded-Systems-GCEK/AI-Robot-System/hooks\n",
      "issue_events_url: https://api.github.com/repos/Embedded-Systems-GCEK/AI-Robot-System/issues/events{/number}\n",
      "events_url: https://api.github.com/repos/Embedded-Systems-GCEK/AI-Robot-System/events\n",
      "assignees_url: https://api.github.com/repos/Embedded-Systems-GCEK/AI-Robot-System/assignees{/user}\n",
      "branches_url: https://api.github.com/repos/Embedded-Systems-GCEK/AI-Robot-System/branches{/branch}\n",
      "tags_url: https://api.github.com/repos/Embedded-Systems-GCEK/AI-Robot-System/tags\n",
      "blobs_url: https://api.github.com/repos/Embedded-Systems-GCEK/AI-Robot-System/git/blobs{/sha}\n",
      "git_tags_url: https://api.github.com/repos/Embedded-Systems-GCEK/AI-Robot-System/git/tags{/sha}\n",
      "git_refs_url: https://api.github.com/repos/Embedded-Systems-GCEK/AI-Robot-System/git/refs{/sha}\n",
      "trees_url: https://api.github.com/repos/Embedded-Systems-GCEK/AI-Robot-System/git/trees{/sha}\n",
      "statuses_url: https://api.github.com/repos/Embedded-Systems-GCEK/AI-Robot-System/statuses/{sha}\n",
      "languages_url: https://api.github.com/repos/Embedded-Systems-GCEK/AI-Robot-System/languages\n",
      "stargazers_url: https://api.github.com/repos/Embedded-Systems-GCEK/AI-Robot-System/stargazers\n",
      "contributors_url: https://api.github.com/repos/Embedded-Systems-GCEK/AI-Robot-System/contributors\n",
      "subscribers_url: https://api.github.com/repos/Embedded-Systems-GCEK/AI-Robot-System/subscribers\n",
      "subscription_url: https://api.github.com/repos/Embedded-Systems-GCEK/AI-Robot-System/subscription\n",
      "commits_url: https://api.github.com/repos/Embedded-Systems-GCEK/AI-Robot-System/commits{/sha}\n",
      "git_commits_url: https://api.github.com/repos/Embedded-Systems-GCEK/AI-Robot-System/git/commits{/sha}\n",
      "comments_url: https://api.github.com/repos/Embedded-Systems-GCEK/AI-Robot-System/comments{/number}\n",
      "issue_comment_url: https://api.github.com/repos/Embedded-Systems-GCEK/AI-Robot-System/issues/comments{/number}\n",
      "contents_url: https://api.github.com/repos/Embedded-Systems-GCEK/AI-Robot-System/contents/{+path}\n",
      "compare_url: https://api.github.com/repos/Embedded-Systems-GCEK/AI-Robot-System/compare/{base}...{head}\n",
      "merges_url: https://api.github.com/repos/Embedded-Systems-GCEK/AI-Robot-System/merges\n",
      "archive_url: https://api.github.com/repos/Embedded-Systems-GCEK/AI-Robot-System/{archive_format}{/ref}\n",
      "downloads_url: https://api.github.com/repos/Embedded-Systems-GCEK/AI-Robot-System/downloads\n",
      "issues_url: https://api.github.com/repos/Embedded-Systems-GCEK/AI-Robot-System/issues{/number}\n",
      "pulls_url: https://api.github.com/repos/Embedded-Systems-GCEK/AI-Robot-System/pulls{/number}\n",
      "milestones_url: https://api.github.com/repos/Embedded-Systems-GCEK/AI-Robot-System/milestones{/number}\n",
      "notifications_url: https://api.github.com/repos/Embedded-Systems-GCEK/AI-Robot-System/notifications{?since,all,participating}\n",
      "labels_url: https://api.github.com/repos/Embedded-Systems-GCEK/AI-Robot-System/labels{/name}\n",
      "releases_url: https://api.github.com/repos/Embedded-Systems-GCEK/AI-Robot-System/releases{/id}\n",
      "deployments_url: https://api.github.com/repos/Embedded-Systems-GCEK/AI-Robot-System/deployments\n",
      "created_at: 2025-04-25T14:45:53Z\n",
      "updated_at: 2025-06-01T19:08:45Z\n",
      "pushed_at: 2025-06-01T19:08:42Z\n",
      "git_url: git://github.com/Embedded-Systems-GCEK/AI-Robot-System.git\n",
      "ssh_url: git@github.com:Embedded-Systems-GCEK/AI-Robot-System.git\n",
      "clone_url: https://github.com/Embedded-Systems-GCEK/AI-Robot-System.git\n",
      "svn_url: https://github.com/Embedded-Systems-GCEK/AI-Robot-System\n",
      "homepage: None\n",
      "size: 2\n",
      "stargazers_count: 0\n",
      "watchers_count: 0\n",
      "language: None\n",
      "has_issues: False\n",
      "has_projects: True\n",
      "has_downloads: True\n",
      "has_wiki: True\n",
      "has_pages: False\n",
      "has_discussions: True\n",
      "forks_count: 0\n",
      "mirror_url: None\n",
      "archived: False\n",
      "disabled: False\n",
      "open_issues_count: 0\n",
      "license: {'key': 'mit', 'name': 'MIT License', 'spdx_id': 'MIT', 'url': 'https://api.github.com/licenses/mit', 'node_id': 'MDc6TGljZW5zZTEz'}\n",
      "allow_forking: True\n",
      "is_template: False\n",
      "web_commit_signoff_required: False\n",
      "topics: []\n",
      "visibility: public\n",
      "forks: 0\n",
      "open_issues: 0\n",
      "watchers: 0\n",
      "default_branch: main\n",
      "permissions: {'admin': False, 'maintain': False, 'push': False, 'triage': False, 'pull': True}\n",
      "custom_properties: {}\n"
     ]
    }
   ],
   "source": [
    "url = \"https://api.github.com/orgs/Embedded-Systems-GCEK/description\"\n",
    "response = requests.get(url)\n",
    "if response.status_code == 200:\n",
    "    data = response.json()\n",
    "for key in data[0].keys():\n",
    "    print(f\"{key}: {data[0][key]}\")"
   ]
  },
  {
   "cell_type": "markdown",
   "id": "35739d8c",
   "metadata": {},
   "source": [
    "#### Get Contents of README.md from github"
   ]
  },
  {
   "cell_type": "code",
   "execution_count": null,
   "id": "c683d436",
   "metadata": {},
   "outputs": [
    {
     "name": "stdout",
     "output_type": "stream",
     "text": [
      "# AI-Robot-System\n",
      "Ai robot system root dir.\n",
      "\n",
      "## Structure\n",
      "This is the root repocitory of AI Robot Project and , the project will make of different project directories , this will be the root \n",
      "\n",
      "```\n",
      "AI-Robot-System\n",
      "    |\n",
      "    -- Microcontroller Code\n",
      "    -- Schematics\n",
      "    -- Website \n",
      "    -- Robot Shell \n",
      "```\n",
      "\n",
      "<class 'str'>\n"
     ]
    }
   ],
   "source": [
    "url = \"https://raw.githubusercontent.com/Embedded-Systems-GCEK/AI-Robot-System/refs/heads/main/README.md\"\n",
    "response = requests.get(url)\n",
    "print(response.text)\n",
    "print(type(response.text))\n"
   ]
  },
  {
   "cell_type": "markdown",
   "id": "7352f9d8",
   "metadata": {},
   "source": [
    "#### for test , when in production , this will be scraped from the github itself."
   ]
  },
  {
   "cell_type": "code",
   "execution_count": 117,
   "id": "4e8ed70a",
   "metadata": {},
   "outputs": [],
   "source": [
    "text = \"\"\"\n",
    "---\n",
    "id: some-id\n",
    "tags:\n",
    "  - project\n",
    "  - root \n",
    "  - electronics\n",
    "title: AI-Robot-System\n",
    "version: 1.0\n",
    "description: AI Robot System root directory for the project.\n",
    "---\n",
    "\n",
    "# AI-Robot-System\n",
    "Ai robot system root dir.\n",
    "\n",
    "## Structure\n",
    "This is the root repocitory of AI Robot Project and , the project will make of different project directories , this will be the root \n",
    "\n",
    "```\n",
    "AI-Robot-System\n",
    "    |\n",
    "    -- Microcontroller Code\n",
    "    -- Schematics\n",
    "    -- Website \n",
    "    -- Robot Shell \n",
    "```\"\"\"\n",
    "text2 = \"\"\"\n",
    "---\n",
    "id: some-id\n",
    "tags:\n",
    "  - project\n",
    "  - root \n",
    "  - ai/ml\n",
    "title: AI-Robot-System\n",
    "description: AI Robot System root directory for the project.\n",
    "---\n",
    "\"\"\""
   ]
  },
  {
   "cell_type": "markdown",
   "id": "30249f5a",
   "metadata": {},
   "source": [
    "#### Extract the headers"
   ]
  },
  {
   "cell_type": "code",
   "execution_count": 118,
   "id": "09fdb178",
   "metadata": {},
   "outputs": [
    {
     "name": "stdout",
     "output_type": "stream",
     "text": [
      "1  and  158\n"
     ]
    }
   ],
   "source": [
    "seperator = \"---\" \n",
    "begin = text.find(seperator)\n",
    "end = text.find(seperator, begin + 1)\n",
    "print(begin,\" and \" , end)\n",
    "headers = text[begin + len(seperator):end].strip()"
   ]
  },
  {
   "cell_type": "code",
   "execution_count": 120,
   "id": "b9fe6475",
   "metadata": {},
   "outputs": [
    {
     "name": "stdout",
     "output_type": "stream",
     "text": [
      "version: 1.0\n"
     ]
    }
   ],
   "source": [
    "import json \n",
    "headers_json = {}\n",
    "# for line in headers.split(\"\\n\"):\n",
    "#     headers_json[line] = line\n",
    "print(headers.split(\"\\n\")[6])"
   ]
  },
  {
   "cell_type": "code",
   "execution_count": 121,
   "id": "09889eef",
   "metadata": {},
   "outputs": [
    {
     "name": "stdout",
     "output_type": "stream",
     "text": [
      "some-id\n"
     ]
    }
   ],
   "source": [
    "id = headers.split(\"\\n\")[0].split(\": \")[1]\n",
    "print(id)"
   ]
  },
  {
   "cell_type": "code",
   "execution_count": 122,
   "id": "01fc7401",
   "metadata": {},
   "outputs": [
    {
     "name": "stdout",
     "output_type": "stream",
     "text": [
      "Requirement already satisfied: pyyaml in /Users/aruncs/Git/github-scraper/.venv/lib/python3.13/site-packages (6.0.2)\n"
     ]
    }
   ],
   "source": [
    "!pip install pyyaml\n",
    "import yaml"
   ]
  },
  {
   "cell_type": "markdown",
   "id": "651a0658",
   "metadata": {},
   "source": [
    "#### Convert headers to dict\n",
    "\n",
    ">[!importat] \n",
    "> later i want it to convert to json "
   ]
  },
  {
   "cell_type": "code",
   "execution_count": 123,
   "id": "79332070",
   "metadata": {},
   "outputs": [
    {
     "name": "stdout",
     "output_type": "stream",
     "text": [
      "{'id': 'some-id', 'tags': ['project', 'root', 'electronics'], 'title': 'AI-Robot-System', 'version': 1.0, 'description': 'AI Robot System root directory for the project.'}\n",
      "<class 'dict'>\n"
     ]
    }
   ],
   "source": [
    "parsed_headers = yaml.safe_load(headers)\n",
    "print(parsed_headers)\n",
    "print(type(parsed_headers))\n",
    "allowed_project_types = [\"electronics\" , \"ai/ml\", \"robotics\" , \"web\" , \"software\"]\n",
    "def get_project_type(tags,allowed_project_types):\n",
    "    for tag in tags:\n",
    "        if tag in allowed_project_types:\n",
    "            return tag\n",
    "    return None"
   ]
  },
  {
   "cell_type": "markdown",
   "id": "dda3c113",
   "metadata": {},
   "source": [
    "#### Get project type and other details "
   ]
  },
  {
   "cell_type": "code",
   "execution_count": 127,
   "id": "4e853460",
   "metadata": {},
   "outputs": [
    {
     "name": "stdout",
     "output_type": "stream",
     "text": [
      "Project Type: Electronics\n",
      "Project Version: 1.0\n"
     ]
    }
   ],
   "source": [
    "project_type = get_project_type(parsed_headers[\"tags\"], allowed_project_types)\n",
    "project_version = parsed_headers.get(\"version\", \"1.0\")\n",
    "\n",
    "print(f\"Project Type: {project_type.capitalize()}\")\n",
    "print(f\"Project Version: {project_version}\")"
   ]
  },
  {
   "cell_type": "markdown",
   "id": "c1dc8f73",
   "metadata": {},
   "source": [
    "# Now Get Project Contents"
   ]
  },
  {
   "cell_type": "code",
   "execution_count": 5,
   "id": "394d8574",
   "metadata": {},
   "outputs": [
    {
     "name": "stdout",
     "output_type": "stream",
     "text": [
      "---\n",
      "id: test_project_template\n",
      "tags:\n",
      "  - project\n",
      "  - electronics\n",
      "title: Test Project\n",
      "description: This is a test description \n",
      "---\n",
      "# Full Adder \"Change ME\"\n",
      "![alt text|600x500](imgs/main.png)\n",
      "This section should contain the description and introduction to the project. \n",
      "## Code \n",
      "\n",
      "```python\n",
      "\"\"\"\n",
      "This script is here only for to give an example.\n",
      "\"\"\" \n",
      "\n",
      "def f_adder(x,y,c_in):\n",
      "    sum = int(\n",
      "        (\n",
      "            not x and y or \n",
      "            not y and x \n",
      "        ) \n",
      "        and\n",
      "        not c_in  or not  \n",
      "        (\n",
      "            not x and y or\n",
      "            not y and x \n",
      "        )\n",
      "        and c_in) \n",
      "    carry = int(\n",
      "        (\n",
      "            not x and y or \n",
      "            not y and x \n",
      "        ) \n",
      "        and\n",
      "        not c_in  or not  \n",
      "        (\n",
      "            not x and y or\n",
      "            not y and x \n",
      "        )\n",
      "        and c_in)\n",
      "    return sum, carry\n",
      "print(\"Truth Table of Full Adder\".center(len(\"x | y | c_in | sum | carry |\"), \"-\"))\n",
      "print(\"-\".center(len(\"x | y | c_in | sum | carry |\"), \"-\"))\n",
      "print(\"x | y | c_in | sum | carry |\")\n",
      "for x in [0, 1]:\n",
      "    for y in [0, 1]:\n",
      "        for c_in in [0, 1]:\n",
      "            sum, carry = f_adder(x, y, c_in)\n",
      "            print(f\"{x} | {y} | {c_in} {\" \" * (len(\"c_in\") - 2)} | {sum} {\" \" * (len(\"sum\") - 2)} | {carry} {\" \" * (len(\"carry\") - 2)} |\")\n",
      "print(\"-\".center(len(\"x | y | c_in | sum | carry |\"), \"-\"))\n",
      "print(\"End of Truth Table\".center(len(\"x | y | c_in | sum | carry |\"), \"-\"))\n",
      "```\n",
      "\n",
      "```\n",
      "-Truth Table of Full Adder--\n",
      "----------------------------\n",
      "x | y | c_in | sum | carry |\n",
      "0 | 0 | 0    | 0   | 0     |\n",
      "0 | 0 | 1    | 1   | 1     |\n",
      "0 | 1 | 0    | 1   | 1     |\n",
      "0 | 1 | 1    | 0   | 0     |\n",
      "1 | 0 | 0    | 1   | 1     |\n",
      "1 | 0 | 1    | 0   | 0     |\n",
      "1 | 1 | 0    | 0   | 0     |\n",
      "1 | 1 | 1    | 1   | 1     |\n",
      "----------------------------\n",
      "-----End of Truth Table-----\n",
      "```\n",
      "\n",
      "\n",
      "\n",
      "## Circuit Diagram \n",
      "\n",
      "![alt text](imgs/ckt_diagram.png)\n",
      "\n",
      "Texts explaining the circuit diagram \n",
      "example explenation\n",
      "\n",
      "This section contains the circuit diagram of a full adder circuit. It is made using BJT(BiPolar Junction Transistor).\n",
      "\n",
      "### Working\n",
      "There are 3 inputs and 2 outputs , \n",
      "\n",
      "## Simulations\n",
      "\n",
      "![alt text](imgs/simulation_1.png)\n",
      "\n",
      "\n"
     ]
    }
   ],
   "source": [
    "import requests\n",
    "project_url = \"https://raw.githubusercontent.com/aruncs31s/es_gcek_electronics_projects_template/refs/heads/main/README.md\"\n",
    "response = requests.get(project_url)\n",
    "readme = response.text\n",
    "print(readme)\n"
   ]
  },
  {
   "cell_type": "markdown",
   "id": "8d22ece6",
   "metadata": {},
   "source": [
    "#### Find heading"
   ]
  },
  {
   "cell_type": "code",
   "execution_count": null,
   "id": "c99a58cd",
   "metadata": {},
   "outputs": [
    {
     "name": "stdout",
     "output_type": "stream",
     "text": [
      "129\n",
      "153\n",
      "Heading: Full Adder \"Change ME\"\n"
     ]
    }
   ],
   "source": [
    "h1_start = readme.find(\"# \")\n",
    "print(h1_start)\n",
    "h1_end = readme.find(\"\\n\", h1_start)\n",
    "print(h1_end)\n",
    "heading = readme[h1_start + 2:h1_end].strip()\n",
    "print(f\"Heading: {heading}\")"
   ]
  },
  {
   "cell_type": "markdown",
   "id": "880de9fc",
   "metadata": {},
   "source": [
    "#### Find Code Section"
   ]
  },
  {
   "cell_type": "code",
   "execution_count": 17,
   "id": "a267f83a",
   "metadata": {},
   "outputs": [
    {
     "name": "stdout",
     "output_type": "stream",
     "text": [
      "Code Section Start: 267, End: 275\n",
      "## Code\n"
     ]
    }
   ],
   "source": [
    "code_start = readme.find(\"## Code\")\n",
    "code_end = readme.find(\"\\n\", code_start)\n",
    "print(f\"Code Section Start: {code_start}, End: {code_end}\")\n",
    "print(readme[code_start:code_end].strip())"
   ]
  },
  {
   "cell_type": "markdown",
   "id": "a57438ed",
   "metadata": {},
   "source": [
    "#### Extract Introduction Block \n",
    "Which is before code and after title"
   ]
  },
  {
   "cell_type": "code",
   "execution_count": 18,
   "id": "21dcc164",
   "metadata": {},
   "outputs": [
    {
     "name": "stdout",
     "output_type": "stream",
     "text": [
      "Introduction Block:\n",
      "![alt text|600x500](imgs/main.png)\n",
      "This section should contain the description and introduction to the project.\n"
     ]
    }
   ],
   "source": [
    "intro_block = readme[h1_end + 1:code_start].strip()\n",
    "print(f\"Introduction Block:\\n{intro_block}\")"
   ]
  },
  {
   "cell_type": "markdown",
   "id": "62a29733",
   "metadata": {},
   "source": [
    "#### Get the code block"
   ]
  },
  {
   "cell_type": "code",
   "execution_count": null,
   "id": "8aee6514",
   "metadata": {},
   "outputs": [
    {
     "name": "stdout",
     "output_type": "stream",
     "text": [
      "Code Block:\n",
      "python\n",
      "\"\"\"\n",
      "This script is here only for to give an example.\n",
      "\"\"\" \n",
      "\n",
      "def f_adder(x,y,c_in):\n",
      "    sum = int(\n",
      "        (\n",
      "            not x and y or \n",
      "            not y and x \n",
      "        ) \n",
      "        and\n",
      "        not c_in  or not  \n",
      "        (\n",
      "            not x and y or\n",
      "            not y and x \n",
      "        )\n",
      "        and c_in) \n",
      "    carry = int(\n",
      "        (\n",
      "            not x and y or \n",
      "            not y and x \n",
      "        ) \n",
      "        and\n",
      "        not c_in  or not  \n",
      "        (\n",
      "            not x and y or\n",
      "            not y and x \n",
      "        )\n",
      "        and c_in)\n",
      "    return sum, carry\n",
      "print(\"Truth Table of Full Adder\".center(len(\"x | y | c_in | sum | carry |\"), \"-\"))\n",
      "print(\"-\".center(len(\"x | y | c_in | sum | carry |\"), \"-\"))\n",
      "print(\"x | y | c_in | sum | carry |\")\n",
      "for x in [0, 1]:\n",
      "    for y in [0, 1]:\n",
      "        for c_in in [0, 1]:\n",
      "            sum, carry = f_adder(x, y, c_in)\n",
      "            print(f\"{x} | {y} | {c_in} {\" \" * (len(\"c_in\") - 2)} | {sum} {\" \" * (len(\"sum\") - 2)} | {carry} {\" \" * (len(\"carry\") - 2)} |\")\n",
      "print(\"-\".center(len(\"x | y | c_in | sum | carry |\"), \"-\"))\n",
      "print(\"End of Truth Table\".center(len(\"x | y | c_in | sum | carry |\"), \"-\"))\n"
     ]
    }
   ],
   "source": [
    "code_block_start = readme.find(\"```\")\n",
    "code_block_end = readme.find(\"```\", code_block_start + 3)\n",
    "code_block = readme[code_block_start + 3:code_block_end].strip()\n",
    "print(f\"Code Block:\\n{code_block}\")"
   ]
  },
  {
   "cell_type": "code",
   "execution_count": null,
   "id": "3d789762",
   "metadata": {},
   "outputs": [
    {
     "name": "stdout",
     "output_type": "stream",
     "text": [
      "Image 1 URL: https://raw.githubusercontent.com/aruncs31s/es_gcek_electronics_projects_template/refs/heads/main/imgs/main.png\n",
      "Image 2 URL: https://raw.githubusercontent.com/aruncs31s/es_gcek_electronics_projects_template/refs/heads/main/imgs/ckt_diagram.png\n",
      "Image 3 URL: https://raw.githubusercontent.com/aruncs31s/es_gcek_electronics_projects_template/refs/heads/mainsimulation_1.png\n",
      "Downloaded https://raw.githubusercontent.com/aruncs31s/es_gcek_electronics_projects_template/refs/heads/main/imgs/main.png to main.png\n",
      "Downloaded https://raw.githubusercontent.com/aruncs31s/es_gcek_electronics_projects_template/refs/heads/main/imgs/ckt_diagram.png to ckt_diagram.png\n",
      "Failed to download https://raw.githubusercontent.com/aruncs31s/es_gcek_electronics_projects_template/refs/heads/mainsimulation_1.png\n"
     ]
    }
   ],
   "source": [
    "# Download the image from github \n",
    "images = [\"/imgs/main.png\",\"/imgs/ckt_diagram.png\",\"/imgs/simulation_1.png\"]\n",
    "img1 = \"https://raw.githubusercontent.com/aruncs31s/es_gcek_electronics_projects_template/refs/heads/main\" + images[0]\n",
    "img2 = \"https://raw.githubusercontent.com/aruncs31s/es_gcek_electronics_projects_template/refs/heads/main\" + images[1]\n",
    "print(f\"Image 1 URL: {img1}\")\n",
    "print(f\"Image 2 URL: {img2}\")\n",
    "img3 = \"https://raw.githubusercontent.com/aruncs31s/es_gcek_electronics_projects_template/refs/heads/main\" + images[2]\n",
    "print(f\"Image 3 URL: {img3}\")\n",
    "\n",
    "import os\n",
    "import requests\n",
    "def download_image(url, save_path):\n",
    "    response = requests.get(url)\n",
    "    if response.status_code == 200:\n",
    "        with open(save_path, 'wb') as file:\n",
    "            file.write(response.content)\n",
    "        print(f\"Downloaded {url} to {save_path}\")\n",
    "    else:\n",
    "        print(f\"Failed to download {url}\")\n",
    "download_image(img1, \"downloads/main.png\")\n",
    "download_image(img2, \"downloads/ckt_diagram.png\")\n",
    "download_image(img3, \"downloads/simulation_1.png\")\n",
    "\n",
    "\n"
   ]
  }
 ],
 "metadata": {
  "kernelspec": {
   "display_name": ".venv",
   "language": "python",
   "name": "python3"
  },
  "language_info": {
   "codemirror_mode": {
    "name": "ipython",
    "version": 3
   },
   "file_extension": ".py",
   "mimetype": "text/x-python",
   "name": "python",
   "nbconvert_exporter": "python",
   "pygments_lexer": "ipython3",
   "version": "3.13.5"
  }
 },
 "nbformat": 4,
 "nbformat_minor": 5
}
